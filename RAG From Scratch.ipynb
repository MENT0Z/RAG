{
 "cells": [
  {
   "cell_type": "code",
   "execution_count": 10,
   "id": "df2a3c5e-c79f-4866-87dd-b9b2f508b820",
   "metadata": {},
   "outputs": [],
   "source": [
    "from collections import Counter\n",
    "import math\n",
    "import requests\n",
    "import json"
   ]
  },
  {
   "cell_type": "code",
   "execution_count": 6,
   "id": "07fef225-fdf9-41e7-a41d-335771c2f8d2",
   "metadata": {},
   "outputs": [],
   "source": [
    "corpus = [\n",
    "    \"The Eiffel Tower is located in Paris, France.\",\n",
    "    \"Python is a popular programming language for data science.\",\n",
    "    \"The Great Wall of China is one of the Seven Wonders of the World.\",\n",
    "    \"Albert Einstein developed the theory of relativity.\",\n",
    "    \"The Amazon rainforest produces 20% of the Earth's oxygen.\",\n",
    "    \"JavaScript is used to make websites interactive.\",\n",
    "    \"The Pacific Ocean is the largest ocean on Earth.\",\n",
    "    \"Marie Curie was the first woman to win a Nobel Prize.\",\n",
    "    \"The Sun is about 93 million miles away from Earth.\",\n",
    "    \"The Pyramids of Giza were built as tombs for the pharaohs.\",\n",
    "    \"Water boils at 100°C at sea level.\",\n",
    "    \"Tokyo is the capital city of Japan.\",\n",
    "    \"Photosynthesis converts sunlight into chemical energy in plants.\",\n",
    "    \"Google was founded by Larry Page and Sergey Brin.\",\n",
    "    \"The human brain contains around 86 billion neurons.\",\n",
    "    \"The Internet connects billions of devices worldwide.\",\n",
    "    \"Saturn is the planet with the most visible rings.\",\n",
    "    \"The speed of light is approximately 299,792 kilometers per second.\",\n",
    "    \"Artificial Intelligence is transforming industries globally.\",\n",
    "    \"Mount Everest is the tallest mountain on Earth.\"\n",
    "]"
   ]
  },
  {
   "cell_type": "code",
   "execution_count": 8,
   "id": "9ed8bfe1-879d-4602-8c60-36ed6a0b3b0d",
   "metadata": {},
   "outputs": [],
   "source": [
    "queries = [\n",
    "    \"Where is the Eiffel Tower located?\",\n",
    "    \"Who created the theory of relativity?\",\n",
    "    \"Which planet has the most visible rings?\",\n",
    "    \"What do plants use to make food from sunlight?\"\n",
    "]"
   ]
  },
  {
   "cell_type": "code",
   "execution_count": 9,
   "id": "c5d778b1-88f6-466c-bc07-40d2e89c8fd1",
   "metadata": {},
   "outputs": [],
   "source": [
    "def cosine_similarity(query, document):\n",
    "    # Tokenize and convert to lowercase\n",
    "    query_tokens = query.lower().split(\" \")\n",
    "    document_tokens = document.lower().split(\" \")\n",
    "\n",
    "    # Create Counters for query and document\n",
    "    query_counter = Counter(query_tokens)\n",
    "    document_counter = Counter(document_tokens)\n",
    "\n",
    "    # Calculate dot product\n",
    "    dot_product = sum(query_counter[token] * document_counter[token] for token in query_counter.keys() & document_counter.keys())\n",
    "\n",
    "    # Calculate magnitudes\n",
    "    query_magnitude = math.sqrt(sum(query_counter[token] ** 2 for token in query_counter))\n",
    "    document_magnitude = math.sqrt(sum(document_counter[token] ** 2 for token in document_counter))\n",
    "\n",
    "    # Calculate cosine similarity\n",
    "    similarity = dot_product / (query_magnitude * document_magnitude) if query_magnitude * document_magnitude != 0 else 0\n",
    "\n",
    "    return similarity"
   ]
  },
  {
   "cell_type": "code",
   "execution_count": 13,
   "id": "be583f37-b31c-4b2c-a360-471036bfb6d9",
   "metadata": {},
   "outputs": [],
   "source": [
    "def return_response(query, corpus):\n",
    "    similarities = []\n",
    "    for doc in corpus:\n",
    "        similarity = cosine_similarity(query, doc)\n",
    "        similarities.append(similarity)\n",
    "    return corpus[similarities.index(max(similarities))]"
   ]
  },
  {
   "cell_type": "code",
   "execution_count": 15,
   "id": "db36b333-cfe0-4ccc-bf39-611b24a3efd7",
   "metadata": {},
   "outputs": [],
   "source": [
    "relevant_document=return_response(queries[0],corpus)"
   ]
  },
  {
   "cell_type": "code",
   "execution_count": 25,
   "id": "443a7fc5-3ac1-4c3a-9a94-e16b7cd5215d",
   "metadata": {},
   "outputs": [
    {
     "data": {
      "text/plain": [
       "['The Eiffel Tower is located in Paris, France.',\n",
       " 'Python is a popular programming language for data science.',\n",
       " 'The Great Wall of China is one of the Seven Wonders of the World.',\n",
       " 'Albert Einstein developed the theory of relativity.',\n",
       " \"The Amazon rainforest produces 20% of the Earth's oxygen.\",\n",
       " 'JavaScript is used to make websites interactive.',\n",
       " 'The Pacific Ocean is the largest ocean on Earth.',\n",
       " 'Marie Curie was the first woman to win a Nobel Prize.',\n",
       " 'The Sun is about 93 million miles away from Earth.',\n",
       " 'The Pyramids of Giza were built as tombs for the pharaohs.',\n",
       " 'Water boils at 100°C at sea level.',\n",
       " 'Tokyo is the capital city of Japan.',\n",
       " 'Photosynthesis converts sunlight into chemical energy in plants.',\n",
       " 'Google was founded by Larry Page and Sergey Brin.',\n",
       " 'The human brain contains around 86 billion neurons.',\n",
       " 'The Internet connects billions of devices worldwide.',\n",
       " 'Saturn is the planet with the most visible rings.',\n",
       " 'The speed of light is approximately 299,792 kilometers per second.',\n",
       " 'Artificial Intelligence is transforming industries globally.',\n",
       " 'Mount Everest is the tallest mountain on Earth.']"
      ]
     },
     "execution_count": 25,
     "metadata": {},
     "output_type": "execute_result"
    }
   ],
   "source": [
    "relevant_document"
   ]
  },
  {
   "cell_type": "code",
   "execution_count": 37,
   "id": "569e4690-9175-49ac-ac6d-52cab395a6b2",
   "metadata": {},
   "outputs": [],
   "source": [
    "user_input = queries[2]\n",
    "relevant_document = corpus\n",
    "full_response = []"
   ]
  },
  {
   "cell_type": "code",
   "execution_count": 40,
   "id": "b49909d4-a786-4787-b95d-724911a96c60",
   "metadata": {},
   "outputs": [
    {
     "name": "stdout",
     "output_type": "stream",
     "text": [
      "Saturn has the most visible rings. \n",
      "\n",
      "**Document Output:**\n",
      "Saturn is the planet with the most visible rings.\n",
      "\n",
      "**Mixed Thoughts Output:**\n",
      "Saturn's rings are amazing.\n"
     ]
    }
   ],
   "source": [
    "full_response = []\n",
    "prompt = \"\"\"\n",
    "You are a bot that makes recommendations for activities. You answer in very short sentences and do not include extra information.\n",
    "This is the recommended activity: {relevant_document}\n",
    "The user input is: {user_input}\n",
    "Compile a recommendation to the user based on the recommended activity and the user input.\n",
    "write your ouptupt seperate and the output you got from the relevant doucment seperate and give another output with mixed thoughts\n",
    "\"\"\"\n",
    "\n",
    "url = 'http://localhost:11434/api/generate'\n",
    "\n",
    "\n",
    "data = {\n",
    "    \"model\": \"gemma3\",\n",
    "    \"prompt\": prompt.format(user_input=user_input, relevant_document=relevant_document)\n",
    "}\n",
    "\n",
    "headers = {'Content-Type': 'application/json'}\n",
    "\n",
    "response = requests.post(url, data=json.dumps(data), headers=headers, stream=True)\n",
    "\n",
    "\n",
    "try:\n",
    "    for line in response.iter_lines():\n",
    "        # filter out keep-alive new lines\n",
    "        if line:\n",
    "            decoded_line = json.loads(line.decode('utf-8'))\n",
    "            # print(decoded_line['response'])  # uncomment to results, token by token\n",
    "            full_response.append(decoded_line['response'])\n",
    "finally:\n",
    "    response.close()\n",
    "    \n",
    "    \n",
    "print(''.join(full_response))"
   ]
  },
  {
   "cell_type": "code",
   "execution_count": null,
   "id": "bf70cf9a-2155-4550-8ac0-692c62f08b06",
   "metadata": {},
   "outputs": [],
   "source": []
  }
 ],
 "metadata": {
  "kernelspec": {
   "display_name": "Python 3 (ipykernel)",
   "language": "python",
   "name": "python3"
  },
  "language_info": {
   "codemirror_mode": {
    "name": "ipython",
    "version": 3
   },
   "file_extension": ".py",
   "mimetype": "text/x-python",
   "name": "python",
   "nbconvert_exporter": "python",
   "pygments_lexer": "ipython3",
   "version": "3.13.5"
  }
 },
 "nbformat": 4,
 "nbformat_minor": 5
}
